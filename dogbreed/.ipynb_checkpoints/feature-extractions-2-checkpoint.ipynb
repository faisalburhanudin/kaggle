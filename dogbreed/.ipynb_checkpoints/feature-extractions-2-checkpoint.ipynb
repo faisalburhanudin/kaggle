{
 "cells": [
  {
   "cell_type": "code",
   "execution_count": 7,
   "metadata": {},
   "outputs": [],
   "source": [
    "import numpy as np\n",
    "import os.path\n",
    "import pandas as pd\n",
    "from sklearn.preprocessing.label import LabelBinarizer\n",
    "from keras.applications import VGG16\n",
    "from keras.layers import Dense, Flatten, Dropout\n",
    "from keras.models import Sequential\n",
    "from keras.preprocessing.image import ImageDataGenerator\n",
    "from keras.utils import to_categorical\n",
    "from keras.optimizers import SGD\n",
    "from sklearn.linear_model import LogisticRegression\n",
    "from sklearn.svm import SVC\n",
    "from sklearn.metrics import accuracy_score"
   ]
  },
  {
   "cell_type": "markdown",
   "metadata": {},
   "source": [
    "# Using feature extraction for image classification"
   ]
  },
  {
   "cell_type": "markdown",
   "metadata": {},
   "source": [
    "## Extract feature\n",
    "\n",
    "extract feature from dataset"
   ]
  },
  {
   "cell_type": "code",
   "execution_count": 4,
   "metadata": {},
   "outputs": [
    {
     "name": "stdout",
     "output_type": "stream",
     "text": [
      "Found 8185 images belonging to 120 classes.\n",
      "Found 2037 images belonging to 120 classes.\n"
     ]
    }
   ],
   "source": [
    "batch_size = 16\n",
    "datagen = ImageDataGenerator(rescale=1. / 255)\n",
    "\n",
    "train_generator = datagen.flow_from_directory(\n",
    "    'data/train',\n",
    "    target_size=(150, 150),\n",
    "    batch_size=batch_size,\n",
    "    class_mode=None,\n",
    "    shuffle=False)\n",
    "\n",
    "validation_generator = datagen.flow_from_directory(\n",
    "    'data/validation',\n",
    "    target_size=(150, 150),\n",
    "    batch_size=batch_size,\n",
    "    class_mode=None,\n",
    "    shuffle=False)\n",
    "\n",
    "\n",
    "def extract_feature(filename, data_generator, extractor):\n",
    "    \"\"\"Extract feature using image data generator\n",
    "    \n",
    "    if already have extracted feature load from numpy file\n",
    "    \"\"\"\n",
    "    if os.path.exists(filename):\n",
    "        return np.load(filename)\n",
    "\n",
    "    feature = extractor.predict_generator(\n",
    "        data_generator,\n",
    "        steps=len(data_generator.filenames),\n",
    "        verbose=1)\n",
    "\n",
    "    np.save(filename, feature)\n",
    "    return feature\n",
    "\n",
    "\n",
    "# model for feature extraction\n",
    "vgg16 = VGG16(include_top=False, weights='imagenet', input_shape=(150, 150, 3))\n",
    "\n",
    "features_train = extract_feature(\"feature_train.npy\", train_generator, vgg16)\n",
    "features_valid = extract_feature(\"feature_valid.npy\", validation_generator, vgg16)\n",
    "\n",
    "train_labels = to_categorical(train_generator.classes, num_classes=120)\n",
    "valid_labels = to_categorical(validation_generator.classes, num_classes=120)"
   ]
  },
  {
   "cell_type": "markdown",
   "metadata": {},
   "source": [
    "## Create classifier"
   ]
  },
  {
   "cell_type": "code",
   "execution_count": 5,
   "metadata": {},
   "outputs": [
    {
     "data": {
      "text/plain": [
       "LogisticRegression(C=1.0, class_weight=None, dual=False, fit_intercept=True,\n",
       "          intercept_scaling=1, max_iter=100, multi_class='multinomial',\n",
       "          n_jobs=1, penalty='l2', random_state=None, solver='lbfgs',\n",
       "          tol=0.0001, verbose=0, warm_start=False)"
      ]
     },
     "execution_count": 5,
     "metadata": {},
     "output_type": "execute_result"
    }
   ],
   "source": [
    "nsamples, x, y, z = features_train.shape\n",
    "\n",
    "x_train = features_train.reshape((nsamples , x * y * z))\n",
    "x_valid = features_valid.reshape((features_valid.shape[0] , x * y * z))\n",
    "\n",
    "clf = LogisticRegression(multi_class='multinomial', solver='lbfgs')\n",
    "clf.fit(x_train, train_generator.classes)"
   ]
  },
  {
   "cell_type": "code",
   "execution_count": 9,
   "metadata": {},
   "outputs": [
    {
     "name": "stdout",
     "output_type": "stream",
     "text": [
      "Validation VGG Accuracy 0.22385861561119294\n"
     ]
    }
   ],
   "source": [
    "predict = clf.predict(x_valid)\n",
    "print('Validation VGG Accuracy {}'.format(accuracy_score(validation_generator.classes, predict)))"
   ]
  },
  {
   "cell_type": "code",
   "execution_count": null,
   "metadata": {},
   "outputs": [],
   "source": []
  }
 ],
 "metadata": {
  "kernelspec": {
   "display_name": "Python 3",
   "language": "python",
   "name": "python3"
  }
 },
 "nbformat": 4,
 "nbformat_minor": 2
}
