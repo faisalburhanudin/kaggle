{
 "cells": [
  {
   "cell_type": "code",
   "execution_count": 1,
   "metadata": {},
   "outputs": [
    {
     "name": "stderr",
     "output_type": "stream",
     "text": [
      "Using TensorFlow backend.\n"
     ]
    }
   ],
   "source": [
    "import numpy as np\n",
    "from keras.applications import VGG16\n",
    "from keras.preprocessing.image import ImageDataGenerator"
   ]
  },
  {
   "cell_type": "code",
   "execution_count": 3,
   "metadata": {},
   "outputs": [
    {
     "name": "stdout",
     "output_type": "stream",
     "text": [
      "Found 8185 images belonging to 120 classes.\n",
      "Found 8185 images belonging to 120 classes.\n",
      "512/512 [==============================] - 57s 112ms/step\n",
      "512/512 [==============================] - 50s 98ms/step\n"
     ]
    }
   ],
   "source": [
    "batch_size=16\n",
    "datagen = ImageDataGenerator(rescale=1. / 255)\n",
    "\n",
    "train_generator = datagen.flow_from_directory(\n",
    "    '../data/train',\n",
    "    target_size=(150, 150),\n",
    "    batch_size=batch_size,\n",
    "    class_mode=None,\n",
    "    shuffle=False)\n",
    "\n",
    "validation_generator = datagen.flow_from_directory(\n",
    "    '../data/train',\n",
    "    target_size=(150, 150),\n",
    "    batch_size=batch_size,\n",
    "    class_mode=None,\n",
    "    shuffle=False)\n",
    "\n",
    "model = VGG16(\n",
    "    include_top=False,\n",
    "    weights='imagenet', input_shape\n",
    "    =(150, 150, 3))\n",
    "\n",
    "bottlenect_features_train = model.predict_generator(\n",
    "    train_generator,\n",
    "    steps=len(train_generator.filenames),\n",
    "    verbose=1)\n",
    "\n",
    "bottlenect_features_valid = model.predict_generator(\n",
    "    validation_generator,\n",
    "    steps=len(validation_generator.filenames),\n",
    "    verbose=1)"
   ]
  },
  {
   "cell_type": "code",
   "execution_count": 4,
   "metadata": {},
   "outputs": [],
   "source": [
    "np.save(\"bottlenect_train.npy\", bottlenect_features_train)\n",
    "np.save(\"bottlenect_valid.npy\", bottlenect_features_valid)"
   ]
  }
 ],
 "metadata": {
  "kernelspec": {
   "display_name": "Python 3",
   "language": "python",
   "name": "python3"
  },
  "language_info": {
   "codemirror_mode": {
    "name": "ipython",
    "version": 3
   },
   "file_extension": ".py",
   "mimetype": "text/x-python",
   "name": "python",
   "nbconvert_exporter": "python",
   "pygments_lexer": "ipython3",
   "version": "3.5.2"
  }
 },
 "nbformat": 4,
 "nbformat_minor": 2
}
