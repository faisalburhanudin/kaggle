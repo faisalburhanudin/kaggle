{
 "cells": [
  {
   "cell_type": "code",
   "execution_count": 24,
   "metadata": {},
   "outputs": [],
   "source": [
    "import cv2\n",
    "import numpy as np\n",
    "import os\n",
    "import pandas as pd\n",
    "from sklearn.preprocessing import LabelBinarizer\n",
    "from glob import glob\n",
    "from keras.applications import VGG16\n",
    "from keras.models import Sequential\n",
    "from keras.layers import Flatten, Dropout, Dense\n",
    "from keras.optimizers import SGD\n",
    "from concurrent.futures import ProcessPoolExecutor"
   ]
  },
  {
   "cell_type": "code",
   "execution_count": 17,
   "metadata": {},
   "outputs": [
    {
     "name": "stdout",
     "output_type": "stream",
     "text": [
      "10357/10357 [==============================] - 60s 6ms/step\n"
     ]
    }
   ],
   "source": [
    "def resize_img(file_path):\n",
    "    img = cv2.imread(file_path, cv2.IMREAD_COLOR)\n",
    "    return cv2.resize(img, (150, 150), interpolation=cv2.INTER_CUBIC)\n",
    "\n",
    "\n",
    "def prep_data(images):\n",
    "    count = len(images)\n",
    "    data = np.ndarray((count, 150, 150, 3), dtype=np.uint8)\n",
    "\n",
    "    with ProcessPoolExecutor(max_workers=4) as executor:\n",
    "        data[:] = list(executor.map(resize_img, images))\n",
    "    \n",
    "    return data\n",
    "\n",
    "\n",
    "test = prep_data(glob('../data/test/*'))\n",
    "\n",
    "model = VGG16(\n",
    "    include_top=False,\n",
    "    weights='imagenet', \n",
    "    input_shape=(150, 150, 3))\n",
    "\n",
    "test_feature = model.predict(test, verbose=1)"
   ]
  },
  {
   "cell_type": "code",
   "execution_count": 19,
   "metadata": {},
   "outputs": [],
   "source": [
    "model = Sequential()\n",
    "model.add(Flatten(input_shape=test_feature.shape[1:]))\n",
    "model.add(Dense(256, activation='relu'))\n",
    "model.add(Dropout(0.5))\n",
    "model.add(Dense(120, activation='sigmoid'))\n",
    "\n",
    "model.compile(\n",
    "    optimizer=SGD(lr=0.001, momentum=0.9, decay=1e-6, nesterov=False), \n",
    "    loss='categorical_crossentropy', \n",
    "    metrics=['accuracy']\n",
    ")"
   ]
  },
  {
   "cell_type": "code",
   "execution_count": 26,
   "metadata": {},
   "outputs": [
    {
     "name": "stdout",
     "output_type": "stream",
     "text": [
      "10357/10357 [==============================] - 1s 59us/step\n"
     ]
    }
   ],
   "source": [
    "predict = model.predict(test_feature, verbose=1)\n",
    "\n",
    "lb = LabelBinarizer()\n",
    "lb.fit(os.listdir(\"../data/train\"))\n",
    "\n",
    "data = {}\n",
    "for k, i in enumerate(lb.classes_):\n",
    "    data[i] = predict[:, k]\n",
    "\n",
    "\n",
    "dt = pd.DataFrame(data)\n",
    "\n",
    "dt.insert(0, \"id\", [i.split(\".\")[0] for i in os.listdir(\"../data/test\")])\n",
    "dt.to_csv('predictions.csv', index=False)"
   ]
  },
  {
   "cell_type": "code",
   "execution_count": null,
   "metadata": {},
   "outputs": [],
   "source": []
  }
 ],
 "metadata": {
  "kernelspec": {
   "display_name": "Python 3",
   "language": "python",
   "name": "python3"
  },
  "language_info": {
   "codemirror_mode": {
    "name": "ipython",
    "version": 3
   },
   "file_extension": ".py",
   "mimetype": "text/x-python",
   "name": "python",
   "nbconvert_exporter": "python",
   "pygments_lexer": "ipython3",
   "version": "3.5.2"
  }
 },
 "nbformat": 4,
 "nbformat_minor": 2
}
