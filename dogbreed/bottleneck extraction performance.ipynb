{
 "cells": [
  {
   "cell_type": "code",
   "execution_count": 1,
   "metadata": {},
   "outputs": [
    {
     "name": "stderr",
     "output_type": "stream",
     "text": [
      "Using TensorFlow backend.\n"
     ]
    }
   ],
   "source": [
    "import numpy as np\n",
    "from keras.applications import VGG16, Xception, InceptionV3, ResNet50, InceptionResNetV2\n",
    "from keras.preprocessing.image import ImageDataGenerator\n",
    "from keras.utils import to_categorical\n",
    "from sklearn.linear_model import LogisticRegression\n",
    "from sklearn.metrics import accuracy_score"
   ]
  },
  {
   "cell_type": "markdown",
   "metadata": {},
   "source": [
    "# Choose best model for bottleneck feature"
   ]
  },
  {
   "cell_type": "code",
   "execution_count": 5,
   "metadata": {},
   "outputs": [
    {
     "name": "stdout",
     "output_type": "stream",
     "text": [
      "Found 8185 images belonging to 120 classes.\n",
      "Found 2037 images belonging to 120 classes.\n"
     ]
    }
   ],
   "source": [
    "batch_size = 16\n",
    "datagen = ImageDataGenerator(rescale=1. / 255)\n",
    "\n",
    "train_generator = datagen.flow_from_directory(\n",
    "    'data/train',\n",
    "    target_size=(225, 225),\n",
    "    batch_size=batch_size,\n",
    "    class_mode=None,\n",
    "    shuffle=False)\n",
    "\n",
    "validation_generator = datagen.flow_from_directory(\n",
    "    'data/validation',\n",
    "    target_size=(225, 225),\n",
    "    batch_size=batch_size,\n",
    "    class_mode=None,\n",
    "    shuffle=False)\n",
    "\n",
    "y_train = train_generator.classes\n",
    "y_valid = validation_generator.classes"
   ]
  },
  {
   "cell_type": "markdown",
   "metadata": {},
   "source": [
    "## Initial model with imagenet weight"
   ]
  },
  {
   "cell_type": "code",
   "execution_count": 3,
   "metadata": {},
   "outputs": [],
   "source": [
    "def models():\n",
    "    yield (\n",
    "        'VGG16', \n",
    "        VGG16(include_top=False, weights='imagenet', pooling='avg')\n",
    "    )\n",
    "    yield (\n",
    "        'Xception',\n",
    "        Xception(, weights='imagenet', pooling='avg')\n",
    "    )\n",
    "    yield (\n",
    "        'InceptionV3',\n",
    "        InceptionV3(include_top=False, weights='imagenet', pooling='avg')\n",
    "    )\n",
    "    yield (\n",
    "        'ResNet50',\n",
    "        ResNet50(include_top=False, weights='imagenet', pooling='avg')\n",
    "    )\n",
    "    yield (\n",
    "        'InceptionResNetV2',\n",
    "        InceptionResNetV2(include_top=False, weights='imagenet', pooling='avg')\n",
    "    )"
   ]
  },
  {
   "cell_type": "markdown",
   "metadata": {},
   "source": [
    "## Perform feature extraction"
   ]
  },
  {
   "cell_type": "code",
   "execution_count": 8,
   "metadata": {},
   "outputs": [
    {
     "name": "stdout",
     "output_type": "stream",
     "text": [
      "model 'VGG16'\n",
      "512/512 [==============================] - 89s 173ms/step\n",
      "128/128 [==============================] - 22s 174ms/step\n",
      "training classifier 'VGG16'\n",
      "score 0.27245949926362295\n",
      "model 'Xception'\n",
      "512/512 [==============================] - 96s 187ms/step\n",
      "128/128 [==============================] - 24s 187ms/step\n",
      "training classifier 'Xception'\n",
      "score 0.75699558173784975\n",
      "model 'InceptionV3'\n",
      "512/512 [==============================] - 87s 170ms/step\n",
      "128/128 [==============================] - 22s 169ms/step\n",
      "training classifier 'InceptionV3'\n",
      "score 0.77466863033873345\n",
      "model 'ResNet50'\n",
      "512/512 [==============================] - 94s 184ms/step\n",
      "128/128 [==============================] - 24s 184ms/step\n",
      "training classifier 'ResNet50'\n",
      "score 0.050564555719194895\n",
      "model 'InceptionResNetV2'\n",
      "512/512 [==============================] - 159s 311ms/step\n",
      "128/128 [==============================] - 39s 308ms/step\n",
      "training classifier 'InceptionResNetV2'\n",
      "score 0.81934216985763375\n"
     ]
    }
   ],
   "source": [
    "clf = LogisticRegression(multi_class='multinomial', solver='lbfgs')\n",
    "\n",
    "for name, m in models():\n",
    "    print('model %r' % name)\n",
    "    \n",
    "    x_train = extract_feature(train_generator, m)\n",
    "    x_valid = extract_feature(validation_generator, m)\n",
    "    \n",
    "    print('training classifier %r' % name)\n",
    "    # train classifier with feature\n",
    "    clf.fit(x_train, y_train)\n",
    "    \n",
    "    # check accuracy\n",
    "    predict = clf.predict(x_valid)\n",
    "    score = accuracy_score(y_valid, predict)\n",
    "    print('score %r' % score)"
   ]
  },
  {
   "cell_type": "code",
   "execution_count": null,
   "metadata": {},
   "outputs": [],
   "source": []
  }
 ],
 "metadata": {
  "kernelspec": {
   "display_name": "Python 3",
   "language": "python",
   "name": "python3"
  },
  "language_info": {
   "codemirror_mode": {
    "name": "ipython",
    "version": 3
   },
   "file_extension": ".py",
   "mimetype": "text/x-python",
   "name": "python",
   "nbconvert_exporter": "python",
   "pygments_lexer": "ipython3",
   "version": "3.5.2"
  }
 },
 "nbformat": 4,
 "nbformat_minor": 2
}
