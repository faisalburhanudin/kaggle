{
 "cells": [
  {
   "cell_type": "markdown",
   "metadata": {},
   "source": [
    "# Use small set of data\n",
    "\n",
    "For experimenting in local computer with limited resource"
   ]
  },
  {
   "cell_type": "code",
   "execution_count": 1,
   "metadata": {},
   "outputs": [
    {
     "name": "stderr",
     "output_type": "stream",
     "text": [
      "Using TensorFlow backend.\n"
     ]
    }
   ],
   "source": [
    "import math\n",
    "import pandas as pd\n",
    "import cv2\n",
    "import numpy as np\n",
    "from glob import glob\n",
    "from concurrent.futures import ProcessPoolExecutor\n",
    "from sklearn.preprocessing import LabelBinarizer\n",
    "from sklearn.model_selection import train_test_split\n",
    "from keras.applications import ResNet50, VGG16, Xception\n",
    "from keras.models import Sequential\n",
    "from keras.layers import Dense, Dropout, Flatten\n",
    "from keras.callbacks import Callback, LearningRateScheduler\n",
    "from keras.optimizers import SGD\n",
    "from matplotlib import pyplot as plt\n",
    "from IPython.display import clear_output"
   ]
  },
  {
   "cell_type": "markdown",
   "metadata": {},
   "source": [
    "## Get top labels\n",
    "get labels with more data in it."
   ]
  },
  {
   "cell_type": "code",
   "execution_count": 2,
   "metadata": {},
   "outputs": [],
   "source": [
    "num_classes = 120\n",
    "df = pd.read_csv('data2/labels.csv')\n",
    "\n",
    "# get top 10 breed\n",
    "breed = df.groupby(['breed'])['breed'].count().nlargest(num_classes)\n",
    "breed = [i for i in breed.index]  # get index name only\n",
    "\n",
    "# labels in breed\n",
    "labels = df[df['breed'].isin(breed)]"
   ]
  },
  {
   "cell_type": "markdown",
   "metadata": {},
   "source": [
    "## Preparing data and labels"
   ]
  },
  {
   "cell_type": "code",
   "execution_count": 3,
   "metadata": {},
   "outputs": [],
   "source": [
    "ROWS = 300\n",
    "COLS = 300\n",
    "CHANNELS = 3\n",
    "CORE = 4\n",
    "\n",
    "\n",
    "def resize_img(file_path):\n",
    "    img = cv2.imread(file_path, cv2.IMREAD_COLOR)\n",
    "    return cv2.resize(img, (ROWS, COLS), interpolation=cv2.INTER_CUBIC)\n",
    "\n",
    "\n",
    "def prep_data(images):\n",
    "    count = len(images)\n",
    "    data = np.ndarray((count, ROWS, COLS, CHANNELS), dtype=np.uint8)\n",
    "\n",
    "    with ProcessPoolExecutor(max_workers=CORE) as executor:\n",
    "        data[:] = list(executor.map(resize_img, images))\n",
    "    \n",
    "    return data\n",
    "\n",
    "\n",
    "lb = LabelBinarizer()\n",
    "\n",
    "files = ['data2/train/%s.jpg' % i['id'] for _, i in labels.iterrows()]\n",
    "text_labels = [i['breed'] for _, i in labels.iterrows()]\n",
    "\n",
    "x = prep_data(files)\n",
    "y = lb.fit_transform(text_labels)"
   ]
  },
  {
   "cell_type": "markdown",
   "metadata": {},
   "source": [
    "## Split dataset for train and test"
   ]
  },
  {
   "cell_type": "code",
   "execution_count": 4,
   "metadata": {},
   "outputs": [],
   "source": [
    "x_train, x_valid, y_train, y_valid = train_test_split(x, y, test_size=0.20, random_state=42)\n",
    "del x  # clear memory"
   ]
  },
  {
   "cell_type": "markdown",
   "metadata": {},
   "source": [
    "## Feature extraction"
   ]
  },
  {
   "cell_type": "code",
   "execution_count": 5,
   "metadata": {},
   "outputs": [
    {
     "name": "stdout",
     "output_type": "stream",
     "text": [
      "8177/8177 [==============================] - 149s 18ms/step\n",
      "2045/2045 [==============================] - 37s 18ms/step\n"
     ]
    }
   ],
   "source": [
    "inc = ResNet50(include_top=False, weights='imagenet')\n",
    "\n",
    "features_train = inc.predict(x_train, verbose=1)\n",
    "features_valid = inc.predict(x_valid, verbose=1)\n",
    "\n",
    "# clear unused variable\n",
    "del x_train\n",
    "del x_valid"
   ]
  },
  {
   "cell_type": "markdown",
   "metadata": {},
   "source": [
    "## Model"
   ]
  },
  {
   "cell_type": "code",
   "execution_count": 23,
   "metadata": {},
   "outputs": [],
   "source": [
    "model = Sequential()\n",
    "model.add(Flatten(input_shape=features_train.shape[1:]))\n",
    "model.add(Dense(64, activation='relu'))\n",
    "model.add(Dropout(0.5))\n",
    "model.add(Dense(num_classes, activation='softmax'))\n",
    "\n",
    "lr = 0.01\n",
    "# sgd = SGD(lr=lr, momentum=0.9, decay=1e-6, nesterov=True)\n",
    "sgd = SGD(lr=lr)\n",
    "model.compile(loss='categorical_crossentropy',\n",
    "              optimizer=sgd,\n",
    "              metrics=['categorical_accuracy'])"
   ]
  },
  {
   "cell_type": "markdown",
   "metadata": {},
   "source": [
    "## Train network"
   ]
  },
  {
   "cell_type": "code",
   "execution_count": 24,
   "metadata": {
    "scrolled": true
   },
   "outputs": [
    {
     "data": {
      "image/png": "[encoded data removed]",
      "text/plain": [
       "<matplotlib.figure.Figure at 0x7fabd8621320>"
      ]
     },
     "metadata": {},
     "output_type": "display_data"
    },
    {
     "name": "stdout",
     "output_type": "stream",
     "text": [
      "\b\b\b\b\b\b\b\b\b\b\b\b\b\b\b\b\b\b\b\b\b\b\b\b\b\b\b\b\b\b\b\b\b\b\b\b\b\b\b\b\b\b\b\b\b\b\b\b\b\b\b\b\b\b\b\b\b\b\b\b\b\b\b\b\b\b\b\b\b\b\b\b\b\b\b\b\b\b\b\b\b\b\b\b\b\b\b\b\b\b\b\b\b\b\b\b\b\b\r",
      "8177/8177 [==============================] - 1s 142us/step - loss: 0.8540 - categorical_accuracy: 0.7406 - val_loss: 0.7994 - val_categorical_accuracy: 0.7614\n"
     ]
    },
    {
     "data": {
      "text/plain": [
       "<keras.callbacks.History at 0x7fabc463b6a0>"
      ]
     },
     "execution_count": 24,
     "metadata": {},
     "output_type": "execute_result"
    }
   ],
   "source": [
    "class PlotLosses(Callback):\n",
    "    def on_train_begin(self, logs={}):\n",
    "        self.i = 0\n",
    "        self.x = []\n",
    "        self.losses = []\n",
    "        self.val_losses = []\n",
    "        \n",
    "        self.fig = plt.figure()\n",
    "        \n",
    "        self.logs = []\n",
    "\n",
    "    def on_epoch_end(self, epoch, logs={}):\n",
    "        \n",
    "        self.logs.append(logs)\n",
    "        self.x.append(self.i)\n",
    "        self.losses.append(logs.get('loss'))\n",
    "        self.val_losses.append(logs.get('val_loss'))\n",
    "        self.i += 1\n",
    "        \n",
    "        clear_output(wait=True)\n",
    "        plt.plot(self.x, self.losses, label=\"loss\")\n",
    "        plt.plot(self.x, self.val_losses, label=\"val_loss\")\n",
    "        plt.legend()\n",
    "        plt.show()\n",
    "        \n",
    "        \n",
    "def lr_schedule(epoch):\n",
    "    return lr * math.pow(0.5, math.floor((1 + epoch)/30.0))\n",
    "\n",
    "        \n",
    "plot_losses = PlotLosses()\n",
    "model.fit(\n",
    "    features_train, y_train,\n",
    "    batch_size=32,\n",
    "    epochs=100,\n",
    "    validation_data=(features_valid, y_valid),\n",
    "    verbose=1,\n",
    "    callbacks=[plot_losses, LearningRateScheduler(lr_schedule)]\n",
    ")"
   ]
  },
  {
   "cell_type": "code",
   "execution_count": 25,
   "metadata": {},
   "outputs": [
    {
     "name": "stdout",
     "output_type": "stream",
     "text": [
      "2045/2045 [==============================] - 0s 54us/step\n"
     ]
    },
    {
     "data": {
      "text/plain": [
       "[0.7994143029296894, 0.7613691933289134]"
      ]
     },
     "execution_count": 25,
     "metadata": {},
     "output_type": "execute_result"
    }
   ],
   "source": [
    "model.evaluate(features_valid, y_valid)"
   ]
  },
  {
   "cell_type": "markdown",
   "metadata": {},
   "source": [
    "## Predict on test data"
   ]
  },
  {
   "cell_type": "code",
   "execution_count": 26,
   "metadata": {},
   "outputs": [],
   "source": [
    "x_test = prep_data(glob('data2/test/*'))"
   ]
  },
  {
   "cell_type": "code",
   "execution_count": 27,
   "metadata": {},
   "outputs": [
    {
     "name": "stdout",
     "output_type": "stream",
     "text": [
      "10357/10357 [==============================] - 187s 18ms/step\n"
     ]
    }
   ],
   "source": [
    "features_test = inc.predict(x_test, verbose=1)\n",
    "del x_test"
   ]
  },
  {
   "cell_type": "code",
   "execution_count": 28,
   "metadata": {},
   "outputs": [
    {
     "name": "stdout",
     "output_type": "stream",
     "text": [
      "10357/10357 [==============================] - 1s 56us/step\n"
     ]
    }
   ],
   "source": [
    "predict = model.predict(features_test, verbose=1)"
   ]
  },
  {
   "cell_type": "code",
   "execution_count": 29,
   "metadata": {},
   "outputs": [
    {
     "data": {
      "text/html": [
       "<div>\n",
       "<style scoped>\n",
       "    .dataframe tbody tr th:only-of-type {\n",
       "        vertical-align: middle;\n",
       "    }\n",
       "\n",
       "    .dataframe tbody tr th {\n",
       "        vertical-align: top;\n",
       "    }\n",
       "\n",
       "    .dataframe thead th {\n",
       "        text-align: right;\n",
       "    }\n",
       "</style>\n",
       "<table border=\"1\" class=\"dataframe\">\n",
       "  <thead>\n",
       "    <tr style=\"text-align: right;\">\n",
       "      <th></th>\n",
       "      <th>id</th>\n",
       "      <th>affenpinscher</th>\n",
       "      <th>afghan_hound</th>\n",
       "      <th>african_hunting_dog</th>\n",
       "      <th>airedale</th>\n",
       "      <th>american_staffordshire_terrier</th>\n",
       "      <th>appenzeller</th>\n",
       "      <th>australian_terrier</th>\n",
       "      <th>basenji</th>\n",
       "      <th>basset</th>\n",
       "      <th>...</th>\n",
       "      <th>toy_poodle</th>\n",
       "      <th>toy_terrier</th>\n",
       "      <th>vizsla</th>\n",
       "      <th>walker_hound</th>\n",
       "      <th>weimaraner</th>\n",
       "      <th>welsh_springer_spaniel</th>\n",
       "      <th>west_highland_white_terrier</th>\n",
       "      <th>whippet</th>\n",
       "      <th>wire-haired_fox_terrier</th>\n",
       "      <th>yorkshire_terrier</th>\n",
       "    </tr>\n",
       "  </thead>\n",
       "  <tbody>\n",
       "    <tr>\n",
       "      <th>0</th>\n",
       "      <td>a111748da0baecb190cac84b46f1129c</td>\n",
       "      <td>2.459922e-11</td>\n",
       "      <td>1.814696e-04</td>\n",
       "      <td>5.509759e-10</td>\n",
       "      <td>1.776340e-07</td>\n",
       "      <td>4.390779e-13</td>\n",
       "      <td>4.339392e-10</td>\n",
       "      <td>8.162089e-09</td>\n",
       "      <td>5.979250e-13</td>\n",
       "      <td>2.597838e-08</td>\n",
       "      <td>...</td>\n",
       "      <td>4.913257e-02</td>\n",
       "      <td>1.035042e-09</td>\n",
       "      <td>5.601761e-09</td>\n",
       "      <td>3.858404e-09</td>\n",
       "      <td>7.931788e-09</td>\n",
       "      <td>1.429996e-05</td>\n",
       "      <td>4.675053e-11</td>\n",
       "      <td>1.055829e-10</td>\n",
       "      <td>5.957329e-08</td>\n",
       "      <td>1.556973e-08</td>\n",
       "    </tr>\n",
       "    <tr>\n",
       "      <th>1</th>\n",
       "      <td>27165f9104e2fcb67cb54917aa88f096</td>\n",
       "      <td>1.111712e-07</td>\n",
       "      <td>2.436980e-07</td>\n",
       "      <td>4.453962e-06</td>\n",
       "      <td>8.992841e-06</td>\n",
       "      <td>1.459067e-05</td>\n",
       "      <td>5.023727e-04</td>\n",
       "      <td>5.374828e-05</td>\n",
       "      <td>1.445135e-02</td>\n",
       "      <td>3.595754e-04</td>\n",
       "      <td>...</td>\n",
       "      <td>6.725371e-06</td>\n",
       "      <td>2.948589e-04</td>\n",
       "      <td>1.132602e-08</td>\n",
       "      <td>1.557802e-04</td>\n",
       "      <td>3.237952e-07</td>\n",
       "      <td>6.107351e-04</td>\n",
       "      <td>8.137739e-06</td>\n",
       "      <td>3.978368e-05</td>\n",
       "      <td>1.408842e-03</td>\n",
       "      <td>7.847189e-06</td>\n",
       "    </tr>\n",
       "    <tr>\n",
       "      <th>2</th>\n",
       "      <td>ed48b89faa9069c700db2448696a97af</td>\n",
       "      <td>1.243140e-09</td>\n",
       "      <td>1.558936e-10</td>\n",
       "      <td>1.273096e-08</td>\n",
       "      <td>1.807007e-08</td>\n",
       "      <td>8.992746e-03</td>\n",
       "      <td>1.031799e-06</td>\n",
       "      <td>1.635280e-07</td>\n",
       "      <td>9.090468e-01</td>\n",
       "      <td>4.714495e-06</td>\n",
       "      <td>...</td>\n",
       "      <td>4.968753e-09</td>\n",
       "      <td>1.482748e-04</td>\n",
       "      <td>5.998429e-05</td>\n",
       "      <td>2.250887e-03</td>\n",
       "      <td>1.503044e-06</td>\n",
       "      <td>1.732075e-06</td>\n",
       "      <td>1.090675e-08</td>\n",
       "      <td>2.857159e-02</td>\n",
       "      <td>4.189901e-06</td>\n",
       "      <td>2.115602e-07</td>\n",
       "    </tr>\n",
       "    <tr>\n",
       "      <th>3</th>\n",
       "      <td>8ab2c099a5ffb7e5b9781c4e4317a4fe</td>\n",
       "      <td>1.577436e-07</td>\n",
       "      <td>1.579331e-06</td>\n",
       "      <td>4.954005e-08</td>\n",
       "      <td>3.682045e-06</td>\n",
       "      <td>2.481312e-02</td>\n",
       "      <td>2.687929e-06</td>\n",
       "      <td>3.651538e-08</td>\n",
       "      <td>2.473903e-05</td>\n",
       "      <td>3.503302e-05</td>\n",
       "      <td>...</td>\n",
       "      <td>4.149360e-08</td>\n",
       "      <td>7.823286e-06</td>\n",
       "      <td>6.777230e-05</td>\n",
       "      <td>4.401625e-05</td>\n",
       "      <td>1.515541e-02</td>\n",
       "      <td>1.897471e-07</td>\n",
       "      <td>2.787025e-07</td>\n",
       "      <td>1.436888e-02</td>\n",
       "      <td>3.434538e-06</td>\n",
       "      <td>2.200031e-07</td>\n",
       "    </tr>\n",
       "    <tr>\n",
       "      <th>4</th>\n",
       "      <td>0aee2e38a7ac39c80dbf0dbc81e830a5</td>\n",
       "      <td>9.941702e-01</td>\n",
       "      <td>4.088648e-10</td>\n",
       "      <td>4.192565e-11</td>\n",
       "      <td>2.430431e-11</td>\n",
       "      <td>1.399220e-09</td>\n",
       "      <td>4.722261e-10</td>\n",
       "      <td>8.385550e-07</td>\n",
       "      <td>1.412112e-11</td>\n",
       "      <td>6.711623e-10</td>\n",
       "      <td>...</td>\n",
       "      <td>6.980162e-08</td>\n",
       "      <td>1.870225e-09</td>\n",
       "      <td>1.303854e-11</td>\n",
       "      <td>1.350356e-11</td>\n",
       "      <td>3.924361e-12</td>\n",
       "      <td>3.781120e-11</td>\n",
       "      <td>2.037200e-06</td>\n",
       "      <td>1.222094e-09</td>\n",
       "      <td>1.112776e-08</td>\n",
       "      <td>6.671850e-05</td>\n",
       "    </tr>\n",
       "  </tbody>\n",
       "</table>\n",
       "<p>5 rows × 121 columns</p>\n",
       "</div>"
      ],
      "text/plain": [
       "                                 id  affenpinscher  afghan_hound  \\\n",
       "0  a111748da0baecb190cac84b46f1129c   2.459922e-11  1.814696e-04   \n",
       "1  27165f9104e2fcb67cb54917aa88f096   1.111712e-07  2.436980e-07   \n",
       "2  ed48b89faa9069c700db2448696a97af   1.243140e-09  1.558936e-10   \n",
       "3  8ab2c099a5ffb7e5b9781c4e4317a4fe   1.577436e-07  1.579331e-06   \n",
       "4  0aee2e38a7ac39c80dbf0dbc81e830a5   9.941702e-01  4.088648e-10   \n",
       "\n",
       "   african_hunting_dog      airedale  american_staffordshire_terrier  \\\n",
       "0         5.509759e-10  1.776340e-07                    4.390779e-13   \n",
       "1         4.453962e-06  8.992841e-06                    1.459067e-05   \n",
       "2         1.273096e-08  1.807007e-08                    8.992746e-03   \n",
       "3         4.954005e-08  3.682045e-06                    2.481312e-02   \n",
       "4         4.192565e-11  2.430431e-11                    1.399220e-09   \n",
       "\n",
       "    appenzeller  australian_terrier       basenji        basset  \\\n",
       "0  4.339392e-10        8.162089e-09  5.979250e-13  2.597838e-08   \n",
       "1  5.023727e-04        5.374828e-05  1.445135e-02  3.595754e-04   \n",
       "2  1.031799e-06        1.635280e-07  9.090468e-01  4.714495e-06   \n",
       "3  2.687929e-06        3.651538e-08  2.473903e-05  3.503302e-05   \n",
       "4  4.722261e-10        8.385550e-07  1.412112e-11  6.711623e-10   \n",
       "\n",
       "         ...            toy_poodle   toy_terrier        vizsla  walker_hound  \\\n",
       "0        ...          4.913257e-02  1.035042e-09  5.601761e-09  3.858404e-09   \n",
       "1        ...          6.725371e-06  2.948589e-04  1.132602e-08  1.557802e-04   \n",
       "2        ...          4.968753e-09  1.482748e-04  5.998429e-05  2.250887e-03   \n",
       "3        ...          4.149360e-08  7.823286e-06  6.777230e-05  4.401625e-05   \n",
       "4        ...          6.980162e-08  1.870225e-09  1.303854e-11  1.350356e-11   \n",
       "\n",
       "     weimaraner  welsh_springer_spaniel  west_highland_white_terrier  \\\n",
       "0  7.931788e-09            1.429996e-05                 4.675053e-11   \n",
       "1  3.237952e-07            6.107351e-04                 8.137739e-06   \n",
       "2  1.503044e-06            1.732075e-06                 1.090675e-08   \n",
       "3  1.515541e-02            1.897471e-07                 2.787025e-07   \n",
       "4  3.924361e-12            3.781120e-11                 2.037200e-06   \n",
       "\n",
       "        whippet  wire-haired_fox_terrier  yorkshire_terrier  \n",
       "0  1.055829e-10             5.957329e-08       1.556973e-08  \n",
       "1  3.978368e-05             1.408842e-03       7.847189e-06  \n",
       "2  2.857159e-02             4.189901e-06       2.115602e-07  \n",
       "3  1.436888e-02             3.434538e-06       2.200031e-07  \n",
       "4  1.222094e-09             1.112776e-08       6.671850e-05  \n",
       "\n",
       "[5 rows x 121 columns]"
      ]
     },
     "execution_count": 29,
     "metadata": {},
     "output_type": "execute_result"
    }
   ],
   "source": [
    "data = {}\n",
    "filenames = [i.split(\".\")[0].replace(\"data2/test/\", \"\") for i in glob('data2/test/*')]\n",
    "\n",
    "for k in range(num_classes):\n",
    "    key = lb.classes_[k]\n",
    "    data[key] = predict[:, k]\n",
    "\n",
    "\n",
    "dt = pd.DataFrame(data)\n",
    "dt.insert(0, \"id\", filenames)\n",
    "dt.head()"
   ]
  },
  {
   "cell_type": "code",
   "execution_count": 30,
   "metadata": {},
   "outputs": [],
   "source": [
    "dt.to_csv('predictions.csv', index=False)"
   ]
  },
  {
   "cell_type": "code",
   "execution_count": null,
   "metadata": {},
   "outputs": [],
   "source": []
  }
 ],
 "metadata": {
  "kernelspec": {
   "display_name": "Python 3",
   "language": "python",
   "name": "python3"
  },
  "language_info": {
   "codemirror_mode": {
    "name": "ipython",
    "version": 3
   },
   "file_extension": ".py",
   "mimetype": "text/x-python",
   "name": "python",
   "nbconvert_exporter": "python",
   "pygments_lexer": "ipython3",
   "version": "3.5.2"
  }
 },
 "nbformat": 4,
 "nbformat_minor": 2
}
